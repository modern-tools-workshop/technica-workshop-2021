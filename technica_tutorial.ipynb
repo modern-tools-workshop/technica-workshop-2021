{
 "cells": [
  {
   "cell_type": "markdown",
   "id": "a429dd1c",
   "metadata": {},
   "source": [
    "# Introduction to using Earth data with Python\n",
    "Author: Rebekah Esmaili, PhD (bekah@umd.edu)\n",
    "\n",
    "This tutorial is an introduction to working with Earth science datasets.\n",
    "\n",
    "## Prerequisites\n",
    "A basic understanding of Python. A basic understanding of jupyter notebooks is recommended. You will need to know how to import packages, subset data, and use matplotlib/numpy/pandas.\n",
    "\n",
    "## Tutorial Contents\n",
    "1. Introduction\n",
    "2. Accessing tutorial data\n",
    "3. Reading data\n",
    "4. Subsetting the data\n",
    "5. Making a plot\n",
    "6. Making a map\n",
    "7. Exercise"
   ]
  },
  {
   "cell_type": "markdown",
   "id": "e4977e38",
   "metadata": {},
   "source": [
    "## Introduction\n",
    "Today we will look at the sea surface temperature (SST) variable from the [NOAA Extended Reconstructed SST version 5 dataset (ERSST)](https://psl.noaa.gov/data/gridded/data.noaa.ersst.v5.html). This dataset shows the global monthly mean ocean surface temperature from 1854-present using data collected from ocean buoys, ships, and climate modeled data. This data can be used for climate research and monitoring for El Nino/La Nina.\n",
    "\n",
    "## Where to access satellite data\n",
    "List of many gridded climate datasets distributed by NOAA: https://www.psl.noaa.gov/data/gridded/ Today, we'll use [netcdf](https://en.wikipedia.org/wiki/NetCDF) files. These are structured binary files so they can store large data in a small format. They also have lots of metadata/attribute tags so we can learn information about the data.\n",
    "\n",
    "We can access the data directly using [Open-source Project for a Network Data Access Protocol (OPeNDAP)](https://www.opendap.org/), which simplifies access. Instead of downloading and reading data into Python, we can access it directly using a URL. \n",
    "\n",
    "Below, I am writing out the url for the data. You can also browse the catalog after the tutorial to discover other interesting data! "
   ]
  },
  {
   "cell_type": "code",
   "execution_count": null,
   "id": "ebb3fc2b",
   "metadata": {},
   "outputs": [],
   "source": [
    "data_url = 'http://www.esrl.noaa.gov/psd/thredds/dodsC/Datasets/noaa.ersst.v5/sst.mnmean.nc'"
   ]
  },
  {
   "cell_type": "markdown",
   "id": "e56a03d2",
   "metadata": {},
   "source": [
    "# Packages to read satellite data and make maps\n",
    "There are several packages to open netcdf files, but today we will learn [xarray](http://xarray.pydata.org/en/stable/index.html). Xarray takes a little time to learn, but is similar to using pandas and numpy. Xarray was [recently funded by NASA](https://github.com/pydata/xarray/discussions/5828) to continue development!\n",
    "\n",
    "Another useful package is [Cartopy](https://scitools.org.uk/cartopy/docs/latest/), which integrates with matplotlib to make maps and geospatial plots."
   ]
  },
  {
   "cell_type": "code",
   "execution_count": null,
   "id": "d9cca3f7",
   "metadata": {},
   "outputs": [],
   "source": [
    "# import numpy as np\n",
    "import xarray as xr\n",
    "import matplotlib.pyplot as plt\n",
    "from cartopy import crs as ccrs"
   ]
  },
  {
   "cell_type": "markdown",
   "id": "1945f352",
   "metadata": {},
   "source": [
    "Next, we need to read in the data using xarray (xr). The command is open_dataset and we only need to give it the url which has the data (note: xarray will also open data on your local machine). NetCDF files do not usually contain a single variable, but is a large matrix of data with many variables and attributes. We can print the sst_ds variable to show some of the available data."
   ]
  },
  {
   "cell_type": "code",
   "execution_count": null,
   "id": "c0d7c80e",
   "metadata": {},
   "outputs": [],
   "source": [
    "# Read the dataset directly into memory from the website\n",
    "sst_ds = xr.open_dataset(data_url)\n",
    "\n",
    "# Print the contents of the dataset\n",
    "sst_ds"
   ]
  },
  {
   "cell_type": "markdown",
   "id": "a2b181b6",
   "metadata": {},
   "source": [
    "In the text output above, we can see there are three coordinates: lat (latitude), lon (longitude), time, and nbnds (number of bounds). The dimensions of these variables are respectively 89, 180, and 2013 (at the time of writing). This is a *lot* of data! If I want to make a plot, I need to reduce this to 2 dimensions (x, y) or 3 dimensions (x,y,z) because that's all we can see.\n",
    "\n",
    "There are two variables, sst and time_bnds. Let's expore the sst dataset, including the attributes. We can extract the sst dataset from sst_ds into a new variable called sst_da."
   ]
  },
  {
   "cell_type": "code",
   "execution_count": null,
   "id": "42db4526",
   "metadata": {},
   "outputs": [],
   "source": [
    "sst_da = sst_ds.sst\n",
    "sst_da"
   ]
  },
  {
   "cell_type": "markdown",
   "id": "4d4c035b",
   "metadata": {},
   "source": [
    "You may have to click on the arrow to display the attributes. We won't use any attributes today, but it's helpful to know this information. For instance, the units could be Farenheit, Celsius, or Kelvin, we can learn from the units attribute that it's in Celsius.\n",
    "\n",
    "sst_da still has over 2000 time dimensions, each dimension index is the month since January 1854. So index 0 is January 1854, 1 is February 1854, etc. In python, the index starts at 0. \n",
    "\n",
    "For simplicity, let's look at September 2021 (index=2012). You are welcome to explore other times by changing the index value. To extract this one time period, use the isel command. The syntax looks like the pseudocode below, replace the <> with the relevant name:\n",
    "\n",
    "```\n",
    "<data_array>.isel(<dim_name>=<index number>)\n",
    "```\n",
    "\n",
    "In our example, \\<data_array\\> is sst_da, \\<dim_name\\> is time, and \\<index number\\> is 2012 (September, 2021)"
   ]
  },
  {
   "cell_type": "code",
   "execution_count": null,
   "id": "c95513f5",
   "metadata": {},
   "outputs": [],
   "source": [
    "most_recent = 2012\n",
    "recent_sst = sst_da.isel(time=most_recent)"
   ]
  },
  {
   "cell_type": "markdown",
   "id": "9af67026",
   "metadata": {},
   "source": [
    "Now we can use matplotlib to make a plot. I added a few options to help make the plot more aesthetically pleasing (e.g. increasing the figure size, changing the color map, and adding min nad max values). Like pandas, xarray can interfaces directly with matplotlib to make 3D plots. It will also automatically add a legend and titles. However, you can also plot the data manually with matplotlib commands."
   ]
  },
  {
   "cell_type": "code",
   "execution_count": null,
   "id": "51f7dfa2",
   "metadata": {},
   "outputs": [],
   "source": [
    "plt.figure(figsize=[15,5])\n",
    "recent_sst.plot(cmap=plt.get_cmap('plasma'), vmin=0, vmax=30)\n",
    "plt.show()"
   ]
  },
  {
   "cell_type": "markdown",
   "id": "5c7dfb36",
   "metadata": {},
   "source": [
    "From the plot above, you can see how the ocean waters are warmer near the equator and cooler closer to the poles. One enhancement would be to add the outlines of the map, which we cna do with Cartopy. We can start with the same code as above, but add two new lines:\n",
    "\n",
    "```\n",
    "ax = plt.subplot(projection=ccrs.PlateCarree())\n",
    "```\n",
    "This adds a subplot with the [Plate Carree map projection](https://en.wikipedia.org/wiki/Equirectangular_projection). This line tells matplotlib that the latitude-longitude coordinates in the data are geographical coordinates, not just index numbers.\n",
    " \n",
    "```\n",
    "ax.coastlines()\n",
    "```\n",
    "This command adds the map to the plot. This is just one example, there are [many other features](https://scitools.org.uk/cartopy/docs/v0.14/matplotlib/feature_interface.html) and customizations you can perform."
   ]
  },
  {
   "cell_type": "code",
   "execution_count": null,
   "id": "865eaef9",
   "metadata": {},
   "outputs": [],
   "source": [
    "plt.figure(figsize=[15,5])\n",
    "ax = plt.subplot(projection=ccrs.PlateCarree())\n",
    "recent_sst.plot(cmap=plt.get_cmap('plasma'), vmin=0, vmax=30)\n",
    "ax.coastlines()\n",
    "plt.show()"
   ]
  },
  {
   "cell_type": "markdown",
   "id": "d1dc7d12",
   "metadata": {},
   "source": [
    "# Exercise\n",
    "* Pick another month in the dataset above, see how the SST changes depending on the time of the year!\n",
    "\n",
    "# Key Points\n",
    "\n",
    "* There's a lot of earth data to explore online\n",
    "* Xarray is a great package for opening and subsetting these datasets\n",
    "* You can use matplotlib to make plots of datasets and cartopy to make maps\n",
    "\n",
    "# Next steps\n",
    "\n",
    "* Learn more about other Earth datasets via [The NOAA Physical Sciences Lab](https://www.psl.noaa.gov/data/gridded/), [NASA EarthData](https://earthdata.nasa.gov/) and [NOAA NCEI](https://www.ncei.noaa.gov/)\n",
    "* Learn more about [Python for Atmosphere and Ocean Scientists](https://carpentries-lab.github.io/python-aos-lesson/) using Software Carpentry lesson plans. \n",
    "* I have a longer workshop on [Python for Earth Science with Rebekah](https://youtube.com/playlist?list=PLlcgQ3Rl-9fR4oOmfeKPKHuk2Lj57bNJy)\n",
    "* Request copy of my book [Earth Observation using Python](https://www.wiley.com/en-us/Earth+Observation+using+Python%3A+A+Practical+Programming+Guide-p-9781119606888) through inter library loan from your university library!\n",
    "\n",
    "# Acronym List\n",
    "\n",
    "* ICOADS: International Comprehensive Ocean-Atmosphere Data Set\n",
    "* ERSST: Extended Reconstructed Sea Surface Temperature\n",
    "* OPeNDAP: Open-source Project for a Network Data Access Protocol\n",
    "* NASA: National Aeronautics and Space Administration\n",
    "* NetCDF: Network Common Data Form\n",
    "* NOAA: National Oceanographic and Atmospheric Administration\n",
    "* SST: Sea Surface Temperature"
   ]
  },
  {
   "cell_type": "code",
   "execution_count": null,
   "id": "008c5846",
   "metadata": {},
   "outputs": [],
   "source": []
  }
 ],
 "metadata": {
  "kernelspec": {
   "display_name": "Python 3",
   "language": "python",
   "name": "python3"
  },
  "language_info": {
   "codemirror_mode": {
    "name": "ipython",
    "version": 3
   },
   "file_extension": ".py",
   "mimetype": "text/x-python",
   "name": "python",
   "nbconvert_exporter": "python",
   "pygments_lexer": "ipython3",
   "version": "3.7.12"
  }
 },
 "nbformat": 4,
 "nbformat_minor": 5
}
